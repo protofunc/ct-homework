{
 "cells": [
  {
   "cell_type": "markdown",
   "metadata": {},
   "source": [
    "# Algorithms, Binary Search & Linked Lists"
   ]
  },
  {
   "cell_type": "markdown",
   "metadata": {},
   "source": [
    "## Tasks Today:\n",
    " \n",
    "1) <b>In-Place Algorithms</b> <br>\n",
    " &nbsp;&nbsp;&nbsp;&nbsp; a) Syntax <br>\n",
    " &nbsp;&nbsp;&nbsp;&nbsp; a) Out of Place Algorithm <br>\n",
    " &nbsp;&nbsp;&nbsp;&nbsp; b) In-Class Exercise #1 <br>\n",
    "2) <b>Two Pointers</b> <br>\n",
    "3) <b>Linked Lists</b> <br>\n",
    "4) <b>Merge Sort</b> <br>\n",
    " &nbsp;&nbsp;&nbsp;&nbsp; a) Video on Algorithms <br>\n",
    " &nbsp;&nbsp;&nbsp;&nbsp; b) How it Works <br>\n",
    "5) <b>Exercises</b> <br>\n",
    " &nbsp;&nbsp;&nbsp;&nbsp; a) Exercise #1 - Reverse a List in Place Using an In-Place Algorithm <br>\n",
    " &nbsp;&nbsp;&nbsp;&nbsp; b) Exercise #2 - Find Distinct Words <br>\n",
    " &nbsp;&nbsp;&nbsp;&nbsp; c) Exercise #3 - Write a program to implement a Linear Search Algorithm. <br>"
   ]
  },
  {
   "cell_type": "markdown",
   "metadata": {},
   "source": [
    "## In-Place Algorithms"
   ]
  },
  {
   "cell_type": "markdown",
   "metadata": {},
   "source": [
    "#### Syntax"
   ]
  },
  {
   "cell_type": "code",
   "execution_count": 5,
   "metadata": {},
   "outputs": [
    {
     "name": "stdout",
     "output_type": "stream",
     "text": [
      "140723416458024\n",
      "140723416458056\n",
      "1196769565184\n",
      "[3, 2, 1]\n",
      "1196769565184\n"
     ]
    }
   ],
   "source": [
    "a = 1\n",
    "print(id(a))\n",
    "a = 2\n",
    "print(id(a))\n",
    "\n",
    "def swap(a_list, x, y, z):\n",
    "    a_list[x], a_list[y], a_list[z] = a_list[z], a_list[y], a_list[x]\n",
    "    return a_list\n",
    "\n",
    "my_list = [1,2,3]  # Place in memory doesn't change in list\n",
    "print(id(my_list))\n",
    "print(swap(my_list, 0, 1, 2))\n",
    "print(id(my_list))"
   ]
  },
  {
   "cell_type": "markdown",
   "metadata": {},
   "source": [
    "#### Out of Place Algorithm"
   ]
  },
  {
   "cell_type": "code",
   "execution_count": 7,
   "metadata": {},
   "outputs": [
    {
     "name": "stdout",
     "output_type": "stream",
     "text": [
      "['f', 'd', 'c', 'b', 'a']\n",
      "['a', 'b', 'c', 'd', 'f']\n",
      "['f', 'd', 'c', 'b', 'a']\n"
     ]
    }
   ],
   "source": [
    "my_list = ['a', \"b\", 'c', 'd', 'f']\n",
    "print(my_list[::-1])\n",
    "print(my_list)\n",
    "\n",
    "new_list = my_list[::-1]\n",
    "print(new_list)"
   ]
  },
  {
   "cell_type": "markdown",
   "metadata": {},
   "source": [
    "#### In-Class Exercise #1 <br>\n",
    "<p>Write a function that takes in four arguments (list, index1, index2, index3), and swaps those three positions in the list passed in.</p>"
   ]
  },
  {
   "cell_type": "code",
   "execution_count": 8,
   "metadata": {},
   "outputs": [
    {
     "data": {
      "text/plain": [
       "[10, 8, 4, 3, 4, 2, 6]"
      ]
     },
     "execution_count": 8,
     "metadata": {},
     "output_type": "execute_result"
    }
   ],
   "source": [
    "l_1 = [10, 4, 3, 8, 4, 2, 6]\n",
    "\n",
    "def swap(a_list, x, y, z):\n",
    "    a_list[x], a_list[y], a_list[z] = a_list[z], a_list[x], a_list[y]\n",
    "    return a_list\n",
    "\n",
    "swap(l_1, 0, 1, 2 )"
   ]
  },
  {
   "cell_type": "markdown",
   "metadata": {},
   "source": [
    "## Two Pointers"
   ]
  },
  {
   "cell_type": "markdown",
   "metadata": {},
   "source": [
    "#### Syntax"
   ]
  },
  {
   "cell_type": "code",
   "execution_count": 9,
   "metadata": {},
   "outputs": [
    {
     "name": "stdout",
     "output_type": "stream",
     "text": [
      "[4, 3, 2, 1]\n"
     ]
    }
   ],
   "source": [
    "test_list = [1, 2, 3, 4]\n",
    "\n",
    "def two_pointer(a_list):\n",
    "    left = 0\n",
    "    right = len(a_list) - 1\n",
    "    while left <= right:\n",
    "        a_list[left], a_list[right] = a_list[right], a_list[left]\n",
    "        left += 1\n",
    "        right -= 1\n",
    "    return a_list\n",
    "\n",
    "print(two_pointer(test_list))\n"
   ]
  },
  {
   "cell_type": "markdown",
   "metadata": {},
   "source": [
    "#### Video of Algorithms <br>\n",
    "<p>Watch the video about algorithms.</p>\n",
    "\n",
    "https://www.youtube.com/watch?v=Q9HjeFD62Uk\n",
    "\n",
    "https://www.youtube.com/watch?v=kPRA0W1kECg\n",
    "\n",
    "https://www.youtube.com/watch?v=ZZuD6iUe3Pc"
   ]
  },
  {
   "cell_type": "markdown",
   "metadata": {},
   "source": [
    "# Sorting Algorithms"
   ]
  },
  {
   "cell_type": "markdown",
   "metadata": {},
   "source": [
    "#### Bubble Sort\n",
    "\n",
    "Worst Case: O(n^2) Time - O(1) Space"
   ]
  },
  {
   "cell_type": "code",
   "execution_count": 14,
   "metadata": {},
   "outputs": [
    {
     "name": "stdout",
     "output_type": "stream",
     "text": [
      "1\n",
      "[5, 13, 755, 23, 5, 12]\n",
      "[5, 13, 755, 23, 5, 12]\n",
      "[5, 13, 23, 755, 5, 12]\n",
      "[5, 13, 23, 5, 755, 12]\n",
      "[5, 13, 23, 5, 12, 755]\n",
      "2\n",
      "[5, 13, 23, 5, 12, 755]\n",
      "[5, 13, 23, 5, 12, 755]\n",
      "[5, 13, 5, 23, 12, 755]\n",
      "[5, 13, 5, 12, 23, 755]\n",
      "[5, 13, 5, 12, 23, 755]\n",
      "3\n",
      "[5, 13, 5, 12, 23, 755]\n",
      "[5, 5, 13, 12, 23, 755]\n",
      "[5, 5, 12, 13, 23, 755]\n",
      "[5, 5, 12, 13, 23, 755]\n",
      "[5, 5, 12, 13, 23, 755]\n",
      "4\n",
      "[5, 5, 12, 13, 23, 755]\n",
      "[5, 5, 12, 13, 23, 755]\n",
      "[5, 5, 12, 13, 23, 755]\n",
      "[5, 5, 12, 13, 23, 755]\n",
      "[5, 5, 12, 13, 23, 755]\n",
      "[5, 5, 12, 13, 23, 755]\n"
     ]
    }
   ],
   "source": [
    "def bubble_sort(a_list):\n",
    "    is_sorted = False\n",
    "    passes = 0\n",
    "    while not is_sorted:\n",
    "        passes += 1\n",
    "        print(passes)\n",
    "        is_sorted = True\n",
    "        for i in range(len(a_list) - 1):\n",
    "            if a_list[i] > a_list[i+1]:\n",
    "                swap(i, i + 1, a_list)\n",
    "                is_sorted = False\n",
    "            print(a_list)\n",
    "    return a_list\n",
    "\n",
    "def swap(i, j, a_list):\n",
    "    a_list[i], a_list[j] = a_list[j], a_list[i]\n",
    "    return a_list\n",
    "\n",
    "l_1 = [13,5,755,23,5,12]\n",
    "print(bubble_sort(l_1))"
   ]
  },
  {
   "cell_type": "markdown",
   "metadata": {},
   "source": [
    "##### Insertion Sort\n",
    "\n",
    "Worst Case: O(n^2) time - O(1)space"
   ]
  },
  {
   "cell_type": "code",
   "execution_count": 16,
   "metadata": {},
   "outputs": [
    {
     "name": "stdout",
     "output_type": "stream",
     "text": [
      "[5, 5, 12, 13, 23, 755]\n"
     ]
    }
   ],
   "source": [
    "def shortKings(a_list):\n",
    "    for i in range(1, len(a_list)):\n",
    "        while i > 0 and a_list[i] < a_list[i -1]:\n",
    "            swap(i, i - 1, a_list)\n",
    "            i -= 1\n",
    "    return a_list\n",
    "\n",
    "def swap(i, j, a_list):\n",
    "    a_list[i], a_list[j] = a_list[j], a_list[i]\n",
    "    return a_list\n",
    "\n",
    "l_1 = [13,5,755,23,5,12]\n",
    "print(shortKings(l_1))"
   ]
  },
  {
   "cell_type": "markdown",
   "metadata": {},
   "source": [
    "## Merge Sort"
   ]
  },
  {
   "cell_type": "markdown",
   "metadata": {},
   "source": [
    "#### How it Works"
   ]
  },
  {
   "cell_type": "code",
   "execution_count": 23,
   "metadata": {},
   "outputs": [
    {
     "name": "stdout",
     "output_type": "stream",
     "text": [
      "[1, 2, 3, 5, 66, 77]\n"
     ]
    }
   ],
   "source": [
    "def mergeSort(a_list):\n",
    "    if len(a_list) > 1:\n",
    "        middle = len(a_list) // 2\n",
    "        left_half = a_list[:middle]\n",
    "        right_half = a_list[middle:]\n",
    "\n",
    "        mergeSort(left_half)\n",
    "        mergeSort(right_half)\n",
    "\n",
    "        i = 0\n",
    "        j = 0\n",
    "        k = 0\n",
    "\n",
    "        while i < len(left_half) and j < len(right_half):\n",
    "            if left_half[i] < right_half[j]:\n",
    "                a_list[k] = left_half[i]\n",
    "                i += 1\n",
    "            else:\n",
    "                a_list[k] = right_half[j]\n",
    "                j += 1\n",
    "            k += 1\n",
    "\n",
    "            while i < len(left_half):\n",
    "                a_list[k] = left_half[i]\n",
    "                i += 1\n",
    "                k += 1\n",
    "            \n",
    "            while j < len(right_half):\n",
    "                a_list[k] = right_half[j]\n",
    "                j += 1\n",
    "                k += 1\n",
    "\n",
    "    return a_list\n",
    "\n",
    "print(mergeSort([3,2,5,1,66,77]))\n"
   ]
  },
  {
   "cell_type": "markdown",
   "metadata": {},
   "source": [
    "# Binary Search\n",
    "\n",
    "The Binary Search algorithm works by finding the number in the middle of a given array and comparing it to the target. Given that the array is sorted\n",
    "\n",
    "* The worst case run time for this algorithm is `O(log(n))`"
   ]
  },
  {
   "cell_type": "code",
   "execution_count": 30,
   "metadata": {},
   "outputs": [
    {
     "name": "stdout",
     "output_type": "stream",
     "text": [
      "Target not found\n"
     ]
    }
   ],
   "source": [
    "# only works with sorted list\n",
    "\n",
    "def binarySearch(a_list, target):\n",
    "    left = 0\n",
    "    right = len(a_list)\n",
    "    while left <= right:\n",
    "        middle = (left + right) // 2\n",
    "        p_match = a_list[middle]\n",
    "        if target == p_match:\n",
    "            return f'Found {target} at index {middle}'\n",
    "        elif target < p_match:\n",
    "            right = middle - 1\n",
    "        else:\n",
    "            left = middle + 1\n",
    "    return \"Target not found\"\n",
    "\n",
    "print(binarySearch([1,19,23,55,34,12,7,8,19], 7))     "
   ]
  },
  {
   "cell_type": "markdown",
   "metadata": {},
   "source": [
    "# Exercises"
   ]
  },
  {
   "cell_type": "markdown",
   "metadata": {},
   "source": [
    "### Exercise #1 <br>\n",
    "<p>Reverse the list below in-place using an in-place algorithm.<br>For extra credit: Reverse the strings at the same time.</p>"
   ]
  },
  {
   "cell_type": "code",
   "execution_count": 43,
   "metadata": {},
   "outputs": [
    {
     "name": "stdout",
     "output_type": "stream",
     "text": [
      "['.', 'ecnetnes', 'a', 'si', 'siht']\n"
     ]
    }
   ],
   "source": [
    "words = ['this' , 'is', 'a', 'sentence', '.']\n",
    "def two_pointer(a_list):\n",
    "    left = 0\n",
    "    right = len(a_list) - 1\n",
    "    while left <= right:\n",
    "        a_list[left], a_list[right] = a_list[right], a_list[left]\n",
    "        left += 1\n",
    "        right -= 1\n",
    "    # Reverse letters\n",
    "    for i in range(len(a_list)):\n",
    "        a_list[i] = a_list[i][::-1]\n",
    "    return a_list\n",
    "\n",
    "print(two_pointer(words))"
   ]
  },
  {
   "cell_type": "markdown",
   "metadata": {},
   "source": [
    "### Exercise #2 <br>\n",
    "<p>Create a function that counts how many distinct words are in the string below, then outputs a dictionary with the words as the key and the value as the amount of times that word appears in the string.<br>Should output:<br>{'a': 5,<br>\n",
    " 'abstract': 1,<br>\n",
    " 'an': 3,<br>\n",
    " 'array': 2, ... etc...</p>"
   ]
  },
  {
   "cell_type": "code",
   "execution_count": 67,
   "metadata": {},
   "outputs": [
    {
     "data": {
      "text/plain": [
       "{'In': 1,\n",
       " 'computing,': 1,\n",
       " 'a': 4,\n",
       " 'hash': 4,\n",
       " 'table': 2,\n",
       " 'map': 2,\n",
       " 'is': 1,\n",
       " 'data': 2,\n",
       " 'structure': 2,\n",
       " 'which': 2,\n",
       " 'implements': 1,\n",
       " 'an': 3,\n",
       " 'associative': 1,\n",
       " 'array': 2,\n",
       " 'abstract': 1,\n",
       " 'type,': 1,\n",
       " 'that': 1,\n",
       " 'can': 2,\n",
       " 'keys': 1,\n",
       " 'to': 2,\n",
       " 'values.': 1,\n",
       " 'A': 1,\n",
       " 'uses': 1,\n",
       " 'function': 1,\n",
       " 'compute': 1,\n",
       " 'index': 1,\n",
       " 'into': 1,\n",
       " 'of': 1,\n",
       " 'buckets': 1,\n",
       " 'or': 1,\n",
       " 'slots': 1,\n",
       " 'from': 1,\n",
       " 'the': 1,\n",
       " 'desired': 1,\n",
       " 'value': 1,\n",
       " 'be': 1,\n",
       " 'found': 1}"
      ]
     },
     "execution_count": 67,
     "metadata": {},
     "output_type": "execute_result"
    }
   ],
   "source": [
    "a_text = 'In computing, a hash table hash map is a data structure which implements an associative array abstract data type, a structure that can map keys to values. A hash table uses a hash function to compute an index into an array of buckets or slots from which the desired value can be found'\n",
    "def stringSort(a_string):\n",
    "    k = 0\n",
    "    y = 0\n",
    "    c = 1\n",
    "    a_dict = {}\n",
    "    a_list = a_string.split()\n",
    "    for i in a_list:\n",
    "        while k < len(a_list):\n",
    "            if a_list[y] == a_list[k]:\n",
    "                a_dict[a_list[y]] = c\n",
    "                c += 1\n",
    "                k += 1\n",
    "            else:\n",
    "                k += 1\n",
    "        c = 1\n",
    "        k = 0\n",
    "        y += 1\n",
    "    return a_dict\n",
    "\n",
    "\n",
    "def swap(i, j, a_list):\n",
    "    a_list[i], a_list[j] = a_list[j], a_list[i]\n",
    "    return a_list\n",
    "\n",
    "stringSort(a_text)"
   ]
  },
  {
   "cell_type": "markdown",
   "metadata": {},
   "source": [
    "## Exercise #3\n",
    "\n",
    "Write a program to implement a Linear Search Algorithm. Also in a comment, write the Time Complexity of the following algorithm.\n",
    "\n",
    "#### Hint: Linear Searching will require searching a list for a given number. "
   ]
  },
  {
   "cell_type": "code",
   "execution_count": 55,
   "metadata": {},
   "outputs": [
    {
     "name": "stdout",
     "output_type": "stream",
     "text": [
      "[2, 511, 1, 3, 5, 323, 53, 62, 23]\n",
      "[1, 511, 2, 3, 5, 323, 53, 62, 23]\n",
      "[1, 2, 511, 3, 5, 323, 53, 62, 23]\n",
      "[1, 2, 3, 511, 5, 323, 53, 62, 23]\n",
      "[1, 2, 3, 5, 511, 323, 53, 62, 23]\n",
      "[1, 2, 3, 5, 323, 511, 53, 62, 23]\n",
      "[1, 2, 3, 5, 53, 511, 323, 62, 23]\n",
      "[1, 2, 3, 5, 53, 323, 511, 62, 23]\n",
      "[1, 2, 3, 5, 53, 62, 511, 323, 23]\n",
      "[1, 2, 3, 5, 53, 62, 323, 511, 23]\n",
      "[1, 2, 3, 5, 23, 62, 323, 511, 53]\n",
      "[1, 2, 3, 5, 23, 53, 323, 511, 62]\n",
      "[1, 2, 3, 5, 23, 53, 62, 511, 323]\n",
      "[1, 2, 3, 5, 23, 53, 62, 323, 511]\n",
      "[1, 2, 3, 5, 23, 53, 62, 323, 511]\n"
     ]
    }
   ],
   "source": [
    "def linSort(a_list):\n",
    "    k = 0\n",
    "    c = 0\n",
    "    for i in a_list:\n",
    "        while k < len(a_list):\n",
    "            if a_list[c] < a_list[k]:\n",
    "                a_list = swap(c, k, a_list)\n",
    "                k += 1\n",
    "                print(a_list)\n",
    "            else:\n",
    "                k += 1\n",
    "        c += 1\n",
    "        k = 0\n",
    "    return a_list\n",
    "\n",
    "def swap(i, j, a_list):\n",
    "    a_list[i], a_list[j] = a_list[j], a_list[i]\n",
    "    return a_list\n",
    "\n",
    "print(linSort([511,2,1,3,5,323,53,62,23]))"
   ]
  }
 ],
 "metadata": {
  "kernelspec": {
   "display_name": "Python 3",
   "language": "python",
   "name": "python3"
  },
  "language_info": {
   "codemirror_mode": {
    "name": "ipython",
    "version": 3
   },
   "file_extension": ".py",
   "mimetype": "text/x-python",
   "name": "python",
   "nbconvert_exporter": "python",
   "pygments_lexer": "ipython3",
   "version": "3.11.1"
  },
  "vscode": {
   "interpreter": {
    "hash": "46f5b8a5ff069dc3b847251c1a15bb89586aad708d14ba1b116f11c6cb9361f8"
   }
  }
 },
 "nbformat": 4,
 "nbformat_minor": 2
}
